{
 "cells": [
  {
   "cell_type": "code",
   "execution_count": 76,
   "metadata": {},
   "outputs": [],
   "source": [
    "monoisotopic=open(\"C:/Users/mhyavas/Desktop/Rosalind-Bioinformatic Stringhold/monoisotopic.txt\",\"r\")\n",
    "protein=open(\"C:/Users/mhyavas/Downloads/rosalind_prtm.txt\",\"r\")\n",
    "protein_str=protein.readline().strip()\n",
    "mono=monoisotopic.read().split()\n",
    "protein_list=list()\n",
    "for i in protein_str:\n",
    "    protein_list.append(i)\n",
    "mono_dict=dict()\n",
    "mono_dict={mono[i]:mono[i+1] for i in range(0,len(mono),2)}"
   ]
  },
  {
   "cell_type": "code",
   "execution_count": 77,
   "metadata": {},
   "outputs": [],
   "source": [
    "weights=list()\n",
    "for i,j in enumerate(protein_list):\n",
    "    if j in mono_dict.keys():\n",
    "        weights.append(mono_dict.get(j))"
   ]
  },
  {
   "cell_type": "code",
   "execution_count": 78,
   "metadata": {},
   "outputs": [
    {
     "name": "stdout",
     "output_type": "stream",
     "text": [
      "106503.61622000061\n"
     ]
    }
   ],
   "source": [
    "total_weight=0\n",
    "map_weights=map(float,weights)\n",
    "for i in map_weights:\n",
    "    total_weight+=i\n",
    "print(total_weight)"
   ]
  }
 ],
 "metadata": {
  "kernelspec": {
   "display_name": "Python 3",
   "language": "python",
   "name": "python3"
  },
  "language_info": {
   "codemirror_mode": {
    "name": "ipython",
    "version": 3
   },
   "file_extension": ".py",
   "mimetype": "text/x-python",
   "name": "python",
   "nbconvert_exporter": "python",
   "pygments_lexer": "ipython3",
   "version": "3.6.4"
  }
 },
 "nbformat": 4,
 "nbformat_minor": 2
}

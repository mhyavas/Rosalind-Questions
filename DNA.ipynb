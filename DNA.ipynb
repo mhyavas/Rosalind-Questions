{
 "cells": [
  {
   "cell_type": "code",
   "execution_count": 14,
   "metadata": {},
   "outputs": [],
   "source": [
    "nucleotides=\"AAAGGGTCTACAGTGGATAGACCTCTGGGTTAGCTCGAAAAAGCTCCAATGTGAAGTGTCCGATAGGACCTGACCAGAATGTGAATAACGCTTCATTAGGTCCTGGCTTAAGTAAAAACCTTTCGACATTGCAATCGCTAGCCAACAACGGTCCAAGCAGTTTTTTACAAAATGCGAGAAGCATGGCGGACGGGTACTTGCAGAAGTGATCCACGAGTTGTCTTGACAAGTCCCGCATATCGGCTTTATCGAAGACTGCTGTCTATTTGCCTTCACTATCAGAAGTGGTAACTCGCGTGGTACCAGTCCGCAACACCGTCGTCACAAGGGGGGAATCAATGCATATGTCCTCTGTTGAGGCCCTATACCATGGTACACCCCTACCTTCAGTAATAATCGATTACTATCCTTACTAACCTATCACAGGGGTGTACAGAGGGGCCATGCATAGTGGGGTTGTTTTACGAGCTGGGGGCCTGGAAATTTGGTGAGCCCGGATGATAGAGTGAGCACTGTGCGCGGCGGTTAGCTAATTCATTCGACGGGGTGAAGATCTACCGCACCTTATAGAGTTTCGAATGACACAGGTAGTTTTCAACTAGAACGAGGACTTTCGCGGACTTCCGCCCAGGAGAAAACAATCAAGAAAAACACTCTTTAAGAACACGTCAGGAGCAAAGGCCGCGGTTGTGTGCCTTGGCCATTCCGATGGGTGAGTAACGCTGGACCGGACCTTGGGACACGAGTATCAACCTTACATACTTAGTAATATATGCGTCGAAGAATACCGCTGCACTTTCGGAGTGTATGTAAGAGTCAGCCTCACTCCAACGAGTACTGAACCACTACAACAGACCTCCGATCTGGCTGGGATCGTCGAACCGTCGGAGCGTTAGGAGGCCTACGTGTGATCCCAGAGCCGCCGCTCTTTTGCGCAGGGATGCAGTATACGCTAAAGT\""
   ]
  },
  {
   "cell_type": "code",
   "execution_count": 15,
   "metadata": {},
   "outputs": [
    {
     "name": "stdout",
     "output_type": "stream",
     "text": [
      "255 227 249 228\n"
     ]
    }
   ],
   "source": [
    "print(str(nucleotides.count(\"A\"))+\" \"+str(nucleotides.count(\"C\"))+\" \"+str(nucleotides.count(\"G\"))+\" \"+str(nucleotides.count(\"T\")))\n"
   ]
  },
  {
   "cell_type": "markdown",
   "metadata": {},
   "source": [
    "if nucleotides sequences are entered with string, number of nucleotides "
   ]
  }
 ],
 "metadata": {
  "kernelspec": {
   "display_name": "Python 3",
   "language": "python",
   "name": "python3"
  },
  "language_info": {
   "codemirror_mode": {
    "name": "ipython",
    "version": 3
   },
   "file_extension": ".py",
   "mimetype": "text/x-python",
   "name": "python",
   "nbconvert_exporter": "python",
   "pygments_lexer": "ipython3",
   "version": "3.6.4"
  }
 },
 "nbformat": 4,
 "nbformat_minor": 2
}

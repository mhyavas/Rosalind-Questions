{
 "cells": [
  {
   "cell_type": "code",
   "execution_count": 1,
   "metadata": {},
   "outputs": [],
   "source": [
    "seq=open(\"C:/Users/mhyavas/Downloads/rosalind_gc(2).txt\",'r')"
   ]
  },
  {
   "cell_type": "code",
   "execution_count": 2,
   "metadata": {},
   "outputs": [],
   "source": [
    "import numpy as np\n",
    "line=seq.readlines()\n",
    "line=[i.strip() for i in line]\n",
    "name=[]\n",
    "dna=[]\n",
    "k=[]\n",
    "gc=0\n",
    "gc_list=[]\n",
    "total=0\n",
    "total_list=[]\n",
    "oran=[]\n",
    "for n,i in enumerate(line):\n",
    "    if \">\" in i:\n",
    "        i_list=list(i)\n",
    "        i_list.remove(\">\")        \n",
    "        name.append(str(\"\".join(i_list)))\n",
    "        k.append(n)\n",
    "        gc_list.append(gc)\n",
    "        gc=0\n",
    "        total_list.append(total)\n",
    "        total=0\n",
    "    else:\n",
    "        gc+=i.count(\"G\")+i.count(\"C\")\n",
    "        total+=len(i)\n",
    "gc_list.append(gc) \n",
    "total_list.append(total)"
   ]
  },
  {
   "cell_type": "code",
   "execution_count": 3,
   "metadata": {},
   "outputs": [],
   "source": [
    "if 0 in total_list and 0 in gc_list:\n",
    "    total_list.pop(0)\n",
    "    gc_list.pop(0)\n",
    "np_total_list=np.array(total_list)\n",
    "np_gc_list=np.array(gc_list)\n",
    "oran=(np_gc_list/np_total_list)*100"
   ]
  },
  {
   "cell_type": "code",
   "execution_count": 4,
   "metadata": {},
   "outputs": [
    {
     "name": "stdout",
     "output_type": "stream",
     "text": [
      "Rosalind_7672\n",
      "52.98087739032621\n"
     ]
    }
   ],
   "source": [
    "h=max(oran)\n",
    "for x in range(len(oran)):\n",
    "    if oran[x]==h  :\n",
    "        print(name[x])\n",
    "        print(oran[x])\n",
    "       "
   ]
  },
  {
   "cell_type": "code",
   "execution_count": null,
   "metadata": {},
   "outputs": [],
   "source": []
  }
 ],
 "metadata": {
  "kernelspec": {
   "display_name": "Python 3",
   "language": "python",
   "name": "python3"
  },
  "language_info": {
   "codemirror_mode": {
    "name": "ipython",
    "version": 3
   },
   "file_extension": ".py",
   "mimetype": "text/x-python",
   "name": "python",
   "nbconvert_exporter": "python",
   "pygments_lexer": "ipython3",
   "version": "3.6.4"
  }
 },
 "nbformat": 4,
 "nbformat_minor": 2
}
